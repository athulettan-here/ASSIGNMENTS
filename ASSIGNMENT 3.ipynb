{
 "cells": [
  {
   "cell_type": "markdown",
   "metadata": {},
   "source": [
    "# QUESTION 1"
   ]
  },
  {
   "cell_type": "code",
   "execution_count": 1,
   "metadata": {},
   "outputs": [
    {
     "name": "stdout",
     "output_type": "stream",
     "text": [
      "Enter the 1st number: 24\n",
      "Enter the 2nd number: 44\n",
      "Enter the 3rd number: 35\n",
      "THE LARGEST NUMBER IS:  44\n"
     ]
    }
   ],
   "source": [
    "no_1=int(input(\"Enter the 1st number: \"))\n",
    "no_2=int(input(\"Enter the 2nd number: \"))\n",
    "no_3=int(input(\"Enter the 3rd number: \"))\n",
    "if (no_1 > no_2) and (no_1 > no_3):\n",
    "    largest=no_1\n",
    "elif (no_2 > no_1) and (no_2 > no_3):\n",
    "    largest=no_2\n",
    "else:\n",
    "    largest=no_3\n",
    "print(\"THE LARGEST NUMBER IS: \",largest)"
   ]
  },
  {
   "cell_type": "markdown",
   "metadata": {},
   "source": [
    "# QUESTION 2"
   ]
  },
  {
   "cell_type": "code",
   "execution_count": 2,
   "metadata": {},
   "outputs": [
    {
     "name": "stdout",
     "output_type": "stream",
     "text": [
      "The string is a Palindrome\n"
     ]
    }
   ],
   "source": [
    "string='aThUlLuHtA'\n",
    "string=string.casefold()\n",
    "reverse=reversed(string)\n",
    "if list(string)==list(reverse):\n",
    "    print(\"The string is a Palindrome\")\n",
    "else:\n",
    "    print(\"The string is not a Palindrome\")"
   ]
  },
  {
   "cell_type": "markdown",
   "metadata": {},
   "source": [
    "# QUESTION 3"
   ]
  },
  {
   "cell_type": "code",
   "execution_count": 3,
   "metadata": {},
   "outputs": [
    {
     "name": "stdout",
     "output_type": "stream",
     "text": [
      "Enter a String: AaBbCcDdEeFfGgHhIiJjKkLlMmNnOoPpQqRrSsTtUuVvWwXxYyZz\n",
      "LOVERCASE:  26\n",
      "UPPERCASE:  26\n"
     ]
    }
   ],
   "source": [
    "string=input(\"Enter a String: \")\n",
    "upper=0\n",
    "lower=0\n",
    "for i in range(len(string)):\n",
    "    if(string[i]>='a' and string[i]<='z'):\n",
    "        lower+=1\n",
    "    elif(string[i]>='A' and string[i]<='Z'):\n",
    "        upper+=1\n",
    "print(\"LOVERCASE: \",lower)\n",
    "print(\"UPPERCASE: \",upper)"
   ]
  },
  {
   "cell_type": "markdown",
   "metadata": {},
   "source": [
    "# QUESTION 4"
   ]
  },
  {
   "cell_type": "code",
   "execution_count": 4,
   "metadata": {},
   "outputs": [
    {
     "name": "stdout",
     "output_type": "stream",
     "text": [
      "SUM OF NUMBERS IN THE LIST:  45\n"
     ]
    }
   ],
   "source": [
    "def sumlist(list1):\n",
    "    totsum = 0\n",
    "    for i in list1:\n",
    "        totsum = totsum+i\n",
    "    return totsum\n",
    "print(\"SUM OF NUMBERS IN THE LIST: \",sumlist([1,2,3,4,5,6,7,8,9]))\n"
   ]
  },
  {
   "cell_type": "markdown",
   "metadata": {},
   "source": [
    "# QUESTION 5"
   ]
  },
  {
   "cell_type": "code",
   "execution_count": 7,
   "metadata": {},
   "outputs": [
    {
     "name": "stdout",
     "output_type": "stream",
     "text": [
      "PRODUCT OF NUMBERS IN THE LIST:  362880\n"
     ]
    }
   ],
   "source": [
    "def mullist(list1):\n",
    "    totmul = 1\n",
    "    for i in list1:\n",
    "        totmul = totmul*i\n",
    "    return totmul\n",
    "print(\"PRODUCT OF NUMBERS IN THE LIST: \",mullist([1,2,3,4,5,6,7,8,9,]))"
   ]
  },
  {
   "cell_type": "markdown",
   "metadata": {},
   "source": [
    "# QUESTION 6"
   ]
  },
  {
   "cell_type": "code",
   "execution_count": 8,
   "metadata": {},
   "outputs": [
    {
     "name": "stdout",
     "output_type": "stream",
     "text": [
      "ORIGINAL LIST:  [10, 20, 30, 10, 10, 20, 40, 50, 40]\n",
      "UNIQUE LIST:  [40, 10, 50, 20, 30]\n"
     ]
    }
   ],
   "source": [
    "list1=[10,20,30,10,10,20,40,50,40]\n",
    "print(\"ORIGINAL LIST: \",list1)\n",
    "list2=set(list1)\n",
    "list3=list(list2)\n",
    "print(\"UNIQUE LIST: \",list3)"
   ]
  },
  {
   "cell_type": "code",
   "execution_count": null,
   "metadata": {},
   "outputs": [],
   "source": []
  }
 ],
 "metadata": {
  "kernelspec": {
   "display_name": "Python 3",
   "language": "python",
   "name": "python3"
  },
  "language_info": {
   "codemirror_mode": {
    "name": "ipython",
    "version": 3
   },
   "file_extension": ".py",
   "mimetype": "text/x-python",
   "name": "python",
   "nbconvert_exporter": "python",
   "pygments_lexer": "ipython3",
   "version": "3.8.5"
  }
 },
 "nbformat": 4,
 "nbformat_minor": 4
}
