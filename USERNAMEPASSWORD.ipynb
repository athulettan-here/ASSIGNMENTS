{
 "cells": [
  {
   "cell_type": "code",
   "execution_count": null,
   "metadata": {},
   "outputs": [],
   "source": [
    "a=input(\"Enter your username: \")\n",
    "b=input(\"Enter your password: \")\n",
    "c=5\n",
    "class style():\n",
    "    RED = '\\033[31m'\n",
    "    GREEN = '\\033[32m'\n",
    "    BLACK = '\\033[30m'\n",
    "if a==\"manager\" and b==\"hello\":\n",
    "\tprint(style.GREEN+\"CONGRATULATIONS,LOGGED IN SUCCESSFULLY!\")\n",
    "else:\n",
    "\tprint(style.RED+\"INVALID USERNAME OR PASSWORD\")\n",
    "\twhile c>1:\n",
    "\t\tc-=1\n",
    "\t\tif a==\"manager\" and b==\"hello\":\n",
    "\t\t\tprint(style.GREEN+\"CONGRATULATIONS,LOGGED IN SUCCESSFULLY!\")\n",
    "\t\telse:\n",
    "\t\t\tprint(style.RED+\"INVALID PASSWORD\",c,\"attempts remaining\")\n",
    "\t\t\ta=input(style.BLACK+\"Enter your username: \")\n",
    "\t\t\tb=input(style.BLACK+\"Enter your password: \")\t\n",
    "\t\t\twhile c==1:\n",
    "\t\t\t\tprint(style.RED+\"ACCESS DENIED!COME BACK TOMORROW..\")\n",
    "\t\t\t\tbreak"
   ]
  },
  {
   "cell_type": "code",
   "execution_count": null,
   "metadata": {},
   "outputs": [],
   "source": []
  },
  {
   "cell_type": "code",
   "execution_count": null,
   "metadata": {},
   "outputs": [],
   "source": []
  }
 ],
 "metadata": {
  "kernelspec": {
   "display_name": "Python 3",
   "language": "python",
   "name": "python3"
  },
  "language_info": {
   "codemirror_mode": {
    "name": "ipython",
    "version": 3
   },
   "file_extension": ".py",
   "mimetype": "text/x-python",
   "name": "python",
   "nbconvert_exporter": "python",
   "pygments_lexer": "ipython3",
   "version": "3.8.5"
  }
 },
 "nbformat": 4,
 "nbformat_minor": 4
}
