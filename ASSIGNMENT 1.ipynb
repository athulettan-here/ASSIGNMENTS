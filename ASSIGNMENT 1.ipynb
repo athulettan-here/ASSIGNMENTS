{
 "cells": [
  {
   "cell_type": "markdown",
   "metadata": {},
   "source": [
    "# QUESTION 1"
   ]
  },
  {
   "cell_type": "code",
   "execution_count": 1,
   "metadata": {},
   "outputs": [
    {
     "name": "stdout",
     "output_type": "stream",
     "text": [
      "Enter the number: 5\n",
      "Result is:  0.26785714285714285\n"
     ]
    }
   ],
   "source": [
    "x = int(input(\"Enter the number: \"))\n",
    "y = (2*x+5)/(x**2+5*x+6)\n",
    "print(\"Result is: \",y)"
   ]
  },
  {
   "cell_type": "code",
   "execution_count": 2,
   "metadata": {},
   "outputs": [
    {
     "name": "stdout",
     "output_type": "stream",
     "text": [
      "Enter the number: 5\n",
      "Result is:  3.7333333333333334\n"
     ]
    }
   ],
   "source": [
    "x = int(input(\"Enter the number: \"))\n",
    "y = (x**2+5*x+6)/(2*x+5)\n",
    "print(\"Result is: \",y)"
   ]
  },
  {
   "cell_type": "code",
   "execution_count": 3,
   "metadata": {},
   "outputs": [
    {
     "name": "stdout",
     "output_type": "stream",
     "text": [
      "Enter the number: 5\n",
      "Result is:  98\n"
     ]
    }
   ],
   "source": [
    "x = int(input(\"Enter the number: \"))\n",
    "y = (2*x-3)*(x+9)\n",
    "print(\"Result is: \",y)"
   ]
  },
  {
   "cell_type": "markdown",
   "metadata": {},
   "source": [
    "# QUESTION 2"
   ]
  },
  {
   "cell_type": "code",
   "execution_count": 4,
   "metadata": {},
   "outputs": [
    {
     "name": "stdout",
     "output_type": "stream",
     "text": [
      "Enter your username: manager\n",
      "Enter your password: hello\n",
      "\u001b[32mCONGRATULATIONS,LOGGED IN SUCCESSFULLY!\n"
     ]
    }
   ],
   "source": [
    "\n",
    "a=input(\"Enter your username: \")\n",
    "b=input(\"Enter your password: \")\n",
    "c=5\n",
    "class style():\n",
    "    RED = '\\033[31m'\n",
    "    GREEN = '\\033[32m'\n",
    "    BLACK = '\\033[30m'\n",
    "if a==\"manager\" and b==\"hello\":\n",
    "    print(style.GREEN+\"CONGRATULATIONS,LOGGED IN SUCCESSFULLY!\")\n",
    "else:\n",
    "    print(style.RED+\"INVALID USERNAME OR PASSWORD\")\n",
    "    while c>1:\n",
    "        c-=1\n",
    "        if a==\"manager\" and b==\"hello\":\n",
    "            print(style.GREEN+\"CONGRATULATIONS,LOGGED IN SUCCESSFULLY!\")\n",
    "        else:\n",
    "            print(style.RED+\"INVALID PASSWORD\",c,\"attempts remaining\")\n",
    "            a=input(style.BLACK+\"Enter your username: \")\n",
    "            b=input(style.BLACK+\"Enter your password: \")\t\n",
    "            while c==1:\n",
    "                print(style.RED+\"ACCESS DENIED!COME BACK TOMORROW..\")\n",
    "                break"
   ]
  },
  {
   "cell_type": "code",
   "execution_count": null,
   "metadata": {},
   "outputs": [],
   "source": []
  }
 ],
 "metadata": {
  "kernelspec": {
   "display_name": "Python 3",
   "language": "python",
   "name": "python3"
  },
  "language_info": {
   "codemirror_mode": {
    "name": "ipython",
    "version": 3
   },
   "file_extension": ".py",
   "mimetype": "text/x-python",
   "name": "python",
   "nbconvert_exporter": "python",
   "pygments_lexer": "ipython3",
   "version": "3.8.5"
  }
 },
 "nbformat": 4,
 "nbformat_minor": 4
}
